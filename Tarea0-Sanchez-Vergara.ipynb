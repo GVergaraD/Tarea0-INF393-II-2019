{
 "cells": [
  {
   "cell_type": "markdown",
   "metadata": {},
   "source": [
    "<table style=\"width:100%\">\n",
    "  <tr>\n",
    "    <th align=\"right\"><img src=\"img/dilogo.png\" style=\"float:left;height:90px\"></th>\n",
    "    <th align=\"center\">\n",
    "    <h1 align=\"center\">Tarea 0</h1>\n",
    "    <h2 align=\"center\">Profesor: Ricardo Ñanculef</h2>\n",
    "    <h3 align=\"center\">Ayudante: Fransisco Mena</h3>\n",
    "    <h3 align=\"center\">Camilo Sanchez Bravo</h3>\n",
    "    <h3 align=\"center\">201673586-0</h3>\n",
    "    <h3 align=\"center\">Gabriel Vergara Donoso</h3>\n",
    "    <h3 align=\"center\">201673605-0</h3>\n",
    "    <h3 align=\"center\">Septiembre 2019</h3>\n",
    "    </th> \n",
    "    <th align=\"left\"><img src=\"img/usmlogo.png\" style=\"float:right;height:85px\"></th>\n",
    "  </tr>"
   ]
  },
  {
   "cell_type": "markdown",
   "metadata": {},
   "source": [
    "<a id=\"primero\"></a>\n",
    "## 1. Perceptrón a mano"
   ]
  },
  {
   "cell_type": "markdown",
   "metadata": {},
   "source": [
    "a) Escriba una función que calcule el valor de salida (output) del modelo  𝑓(𝑥)  para un patrón de entrada  𝑥  a través de los pesos  𝑤  del modelo. Decida si incluir los bias dentro de  𝑤  o manejarlos de manera separada."
   ]
  },
  {
   "cell_type": "markdown",
   "metadata": {},
   "source": [
    " Implementación de la función f(x) en Python.\n",
    "\n",
    "    Los bias se incluirán dentro de W, vector que contiene los pesos w. \n",
    "    Inputs:   \n",
    "        X: vector que contiene los x.       \n",
    "        W: vector que contiene los pesos w, donde w(i) corresponde al peso para el atributo x(i)    \n",
    "    Output: Clase (1 o -1) que se calcula para X."
   ]
  },
  {
   "cell_type": "code",
<<<<<<< HEAD
   "execution_count": 43,
=======
   "execution_count": 35,
>>>>>>> 7c3495f7856ec440726ef5914bd47610eb05ce71
   "metadata": {},
   "outputs": [],
   "source": [
    "import numpy as np\n",
    "import matplotlib.pyplot as plt\n",
    "\n",
    "def f(X,W):\n",
    "    y = np.dot(X,W) #producto punto entre X y W\n",
    "    if (y >= 0):\n",
    "        return 1\n",
    "    else:\n",
    "        return -1"
   ]
  },
  {
   "cell_type": "markdown",
   "metadata": {},
   "source": [
    "b) Escriba una función que implemente el clásico algoritmo del Perceptrón para un problema binario que permita entrenarlo en un conjunto de datos de tamaño  𝑁 , leídos de manera online (uno a uno). Recordar la decisión anterior sobre los bias."
   ]
  },
  {
   "cell_type": "code",
<<<<<<< HEAD
   "execution_count": 44,
=======
   "execution_count": 53,
>>>>>>> 7c3495f7856ec440726ef5914bd47610eb05ce71
   "metadata": {},
   "outputs": [],
   "source": [
    "def perceptron(Xs,Y):\n",
    "    N = len(Xs[0]) ##cantidad de atributos\n",
    "    pi = np.zeros(N) ##vector pi\n",
    "    W = np.zeros(N) #vector W a retornar\n",
    "    run_pi = run_w = i =0 #casos consecutivos correctos por pi o w, e i como contador\n",
    "    accu = []\n",
    "    datos = []\n",
    "    cantidad = len(Y)\n",
    "    for X in Xs: #aprende por caso\n",
    "        y = f(X,pi) #clasificacion de X con los pesos pi\n",
    "        if(y == Y[i]): \n",
    "            run_pi += 1\n",
    "            if(run_pi > run_w): #\n",
    "                W = np.copy(pi)\n",
    "                run_w = run_pi\n",
    "        else:\n",
    "            pi = pi + 0.25*(X*Y[i]) \n",
    "            run_pi = 0\n",
    "        i += 1\n",
    "        datos.append(i)\n",
    "        j = 0\n",
    "        correctas = 0\n",
    "        while(j<cantidad):\n",
    "            if(Y[j]==f(Xs[j],W)):\n",
    "                correctas += 1.0\n",
    "            j += 1\n",
    "        accu.append(correctas/cantidad)\n",
    "    plt.grid()\n",
    "    plt.xlabel(\"Numero de datos de entrenamiento\")\n",
    "    plt.ylabel(\"Precision\")\n",
    "    plt.plot(datos,accu)\n",
    "    return W\n",
    "    \n",
    "    "
   ]
  },
  {
   "cell_type": "markdown",
   "metadata": {},
   "source": [
    "c) Demuestre que lo implementado funciona en un problema real de clasificación. Para esto utilice el dataset Breast cancer wisconsin, disponible a través de la librería sklearn, el cual corresponde a la detección de cancer mamario a través de características relevantes (numéricas continuas) de un examen realizado, como por ejemplo la textura, simetría y tamaño de una masa mamaria. Estas características deben combinarse linealmente para la detección del cancer."
   ]
  },
  {
   "cell_type": "code",
<<<<<<< HEAD
   "execution_count": 45,
=======
   "execution_count": 54,
>>>>>>> 7c3495f7856ec440726ef5914bd47610eb05ce71
   "metadata": {},
   "outputs": [
    {
     "data": {
      "image/png": "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\n",
      "text/plain": [
       "<Figure size 432x288 with 1 Axes>"
      ]
     },
     "metadata": {
      "needs_background": "light"
     },
     "output_type": "display_data"
    }
   ],
   "source": [
    "from sklearn.datasets import load_breast_cancer\n",
    "from sklearn.preprocessing import StandardScaler\n",
    "X_train,y_train = load_breast_cancer(return_X_y=True)\n",
    "scaler = StandardScaler().fit(X_train)\n",
    "X_train = scaler.transform(X_train)\n",
    "N,m=X_train.shape\n",
    "X_train = np.c_[X_train, np.ones(N)]\n",
    "i = 0\n",
    "cantidad = len(y_train)\n",
    "while(i<cantidad): #cambiar los 0 a -1 (necesarios en el perceptron)\n",
    "    if (y_train[i]==0):\n",
    "        y_train[i] = -1\n",
    "    i +=1\n",
    "\n",
    "pesos = perceptron(X_train, y_train)\n",
    "correctas = 0\n",
    "i = 0\n",
    "#while(i<cantidad):\n",
    "#    if(y_train[i]==f(X_train[i],pesos)):\n",
    "#        correctas += 1\n",
    "#    i +=1\n",
    "#print(cantidad)\n",
<<<<<<< HEAD
    "#print(correctas)"
=======
    "#print(correctas)\n"
>>>>>>> 7c3495f7856ec440726ef5914bd47610eb05ce71
   ]
  },
  {
   "cell_type": "markdown",
   "metadata": {},
   "source": [
    "d) Escriba una función que implemente el **Forgetrón**  con una memoria de tamaño $K$ y la función de kernel como el producto interno (*inner-product*), esto es $<a,b> = \\sum_i a_i \\cdot b_i$."
   ]
  },
  {
   "cell_type": "code",
   "execution_count": 48,
   "metadata": {},
   "outputs": [],
   "source": [
    "def Forgetron(Xs,Y,K):\n",
    "    N = len(Xs[0])\n",
    "    f1 = np.zeros(N) #vector de pesos inicializados en 0s\n",
    "    I1 = [] #memoria del algoritmo\n",
    "    factores = np.zeros(K)\n",
    "    Ys = [] #los 'y' de los datos que fallaron\n",
    "    fallas = 0 \n",
    "    pos = 0 #guarda la posicion actual en la memoria de los datos guardados\n",
    "    i = 0 \n",
    "    accu = []\n",
    "    datos = []\n",
    "    cantidad = len(Y)\n",
    "    for X in Xs:\n",
    "        if ((f(X,f1)*Y[i])<0): #si falla la prediccion\n",
    "            #fallas += 1\n",
    "            if (pos>=K): #por la memoria limitada\n",
    "                pos = 0\n",
    "            #I1[pos] = X\n",
    "            if(fallas >= K): \n",
    "                Ys[pos] = Y[i]\n",
    "                I1[pos] = X\n",
    "                factores = factores*0.1\n",
    "            else:\n",
    "                Ys.append(Y[i])\n",
    "                I1.append(X)\n",
    "            factores[pos] = 1 #nuevo error\n",
    "            pos += 1\n",
    "            fallas +=1\n",
    "        ft = np.zeros(N)\n",
    "        for j in list(range(len(Ys))):\n",
    "            ft = ft + factores[j]*Ys[j]*I1[j]\n",
    "        f1 = np.copy(ft)\n",
    "        i += 1\n",
    "        datos.append(i)\n",
    "        j = 0\n",
    "        correctas = 0\n",
    "        while(j<cantidad):\n",
    "            if(Y[j]==f(Xs[j],f1)):\n",
    "                correctas += 1.0\n",
    "            j += 1\n",
    "        accu.append(correctas/cantidad)\n",
    "    plt.grid()\n",
    "    plt.xlabel(\"Numero de datos de entrenamiento\")\n",
    "    plt.ylabel(\"Precision\")\n",
    "    plt.plot(datos,accu)\n",
    "    return f1"
   ]
  },
  {
   "cell_type": "code",
   "execution_count": 78,
   "metadata": {},
   "outputs": [],
   "source": [
    "def Forgetron(Xs,Y,K):\n",
    "    N = len(Xs[0])\n",
    "    f1 = np.zeros(N) #vector de pesos inicializados en 0s\n",
    "    I1 = [] #memoria del algoritmo\n",
    "    factores = np.zeros(K)\n",
    "    Ys = [] #los 'y' de los datos que fallaron\n",
    "    fallas = 0 \n",
    "    pos = 0 #guarda la posicion actual en la memoria de los datos guardados\n",
    "    i = 0 \n",
    "    accu = []\n",
    "    datos = []\n",
    "    cantidad = len(Y)\n",
    "    for X in Xs:\n",
    "        if ((f(X,f1)*Y[i])<0): #si falla la prediccion\n",
    "            #fallas += 1\n",
    "            if (pos>=K): #por la memoria limitada\n",
    "                pos = 0\n",
    "            #I1[pos] = X\n",
    "            if(fallas >= K): \n",
    "                Ys[pos] = Y[i]\n",
    "                I1[pos] = X\n",
    "                factores = factores*0.1\n",
    "            else:\n",
    "                Ys.append(Y[i])\n",
    "                I1.append(X)\n",
    "            factores[pos] = 1 #nuevo error\n",
    "            pos += 1\n",
    "            fallas +=1\n",
    "        #ft = np.zeros(N)\n",
    "        for j in list(range(len(Ys))):\n",
    "            f1 = f1 + factores[j]*Ys[j]*I1[j]\n",
    "        #f1 = np.copy(ft)\n",
    "        i += 1\n",
    "        datos.append(i)\n",
    "        j = 0\n",
    "        correctas = 0\n",
    "        while(j<cantidad):\n",
    "            if(Y[j]==f(Xs[j],f1)):\n",
    "                correctas += 1.0\n",
    "            j += 1\n",
    "        accu.append(correctas/cantidad)\n",
    "    plt.grid()\n",
    "    plt.xlabel(\"Numero de datos de entrenamiento\")\n",
    "    plt.ylabel(\"Precision\")\n",
    "    plt.plot(datos,accu)\n",
    "    print(correctas)\n",
    "    return f1"
   ]
  },
  {
   "cell_type": "markdown",
   "metadata": {},
   "source": [
    "e) Vuelva a realizar el item c) para el **Forgetrón** con un $K=10$ y compare los resultados."
   ]
  },
  {
   "cell_type": "code",
   "execution_count": 47,
   "metadata": {},
   "outputs": [
    {
     "ename": "NameError",
     "evalue": "name 'plt' is not defined",
     "output_type": "error",
     "traceback": [
      "\u001b[1;31m---------------------------------------------------------------------------\u001b[0m",
      "\u001b[1;31mNameError\u001b[0m                                 Traceback (most recent call last)",
      "\u001b[1;32m<ipython-input-47-4d2d1ffc7a6a>\u001b[0m in \u001b[0;36m<module>\u001b[1;34m\u001b[0m\n\u001b[1;32m----> 1\u001b[1;33m \u001b[0mpesos\u001b[0m \u001b[1;33m=\u001b[0m \u001b[0mForgetron\u001b[0m\u001b[1;33m(\u001b[0m\u001b[0mX_train\u001b[0m\u001b[1;33m,\u001b[0m \u001b[0my_train\u001b[0m\u001b[1;33m,\u001b[0m \u001b[1;36m10\u001b[0m\u001b[1;33m)\u001b[0m\u001b[1;33m\u001b[0m\u001b[1;33m\u001b[0m\u001b[0m\n\u001b[0m",
      "\u001b[1;32m<ipython-input-46-161e62fa347a>\u001b[0m in \u001b[0;36mForgetron\u001b[1;34m(Xs, Y, K)\u001b[0m\n\u001b[0;32m     40\u001b[0m             \u001b[0mj\u001b[0m \u001b[1;33m+=\u001b[0m \u001b[1;36m1\u001b[0m\u001b[1;33m\u001b[0m\u001b[1;33m\u001b[0m\u001b[0m\n\u001b[0;32m     41\u001b[0m         \u001b[0maccu\u001b[0m\u001b[1;33m.\u001b[0m\u001b[0mappend\u001b[0m\u001b[1;33m(\u001b[0m\u001b[0mcorrectas\u001b[0m\u001b[1;33m/\u001b[0m\u001b[0mcantidad\u001b[0m\u001b[1;33m)\u001b[0m\u001b[1;33m\u001b[0m\u001b[1;33m\u001b[0m\u001b[0m\n\u001b[1;32m---> 42\u001b[1;33m     \u001b[0mplt\u001b[0m\u001b[1;33m.\u001b[0m\u001b[0mgrid\u001b[0m\u001b[1;33m(\u001b[0m\u001b[1;33m)\u001b[0m\u001b[1;33m\u001b[0m\u001b[1;33m\u001b[0m\u001b[0m\n\u001b[0m\u001b[0;32m     43\u001b[0m     \u001b[0mplt\u001b[0m\u001b[1;33m.\u001b[0m\u001b[0mxlabel\u001b[0m\u001b[1;33m(\u001b[0m\u001b[1;34m\"Numero de datos de entrenamiento\"\u001b[0m\u001b[1;33m)\u001b[0m\u001b[1;33m\u001b[0m\u001b[1;33m\u001b[0m\u001b[0m\n\u001b[0;32m     44\u001b[0m     \u001b[0mplt\u001b[0m\u001b[1;33m.\u001b[0m\u001b[0mylabel\u001b[0m\u001b[1;33m(\u001b[0m\u001b[1;34m\"Precision\"\u001b[0m\u001b[1;33m)\u001b[0m\u001b[1;33m\u001b[0m\u001b[1;33m\u001b[0m\u001b[0m\n",
      "\u001b[1;31mNameError\u001b[0m: name 'plt' is not defined"
     ]
    }
   ],
   "source": [
    "pesos = Forgetron(X_train, y_train, 10)"
   ]
  },
  {
   "cell_type": "code",
   "execution_count": 79,
   "metadata": {},
   "outputs": [
    {
     "name": "stdout",
     "output_type": "stream",
     "text": [
      "553.0\n"
     ]
    },
    {
     "data": {
      "image/png": "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\n",
      "text/plain": [
       "<Figure size 432x288 with 1 Axes>"
      ]
     },
     "metadata": {
      "needs_background": "light"
     },
     "output_type": "display_data"
    }
   ],
   "source": [
    "pesos = Forgetron(X_train, y_train, 10)"
   ]
  },
  {
   "cell_type": "markdown",
   "metadata": {},
   "source": [
    "### ¿Qué sucede al variar la función objetivo del problema? "
   ]
  },
  {
   "cell_type": "markdown",
   "metadata": {},
   "source": [
    "f) Escriba una función que compute la función sigmoidal para una entrada  𝜉  cualquiera. Tenga cuidado con los límites de números que puede trabajar python (por ejemplo  exp800→+∞ ). Se aconseja acotar/truncar los valores que entran a la función para que la operación se pueda realizar. Además escriba una función que calcule la salida del nuevo modelo  𝑔(𝑥;𝑤,𝑏)  con esta función sigmoidal."
   ]
  },
  {
   "cell_type": "code",
<<<<<<< HEAD
   "execution_count": 35,
=======
   "execution_count": 15,
>>>>>>> 7c3495f7856ec440726ef5914bd47610eb05ce71
   "metadata": {},
   "outputs": [
    {
     "data": {
      "text/plain": [
       "1.216780750623423e-308"
      ]
     },
     "execution_count": 35,
     "metadata": {},
     "output_type": "execute_result"
    }
   ],
   "source": [
    "import math\n",
    "\n",
    "def sigmoid(x):\n",
    "    if x<-709:\n",
    "        return 0\n",
    "    return 1 / (1 + math.exp(-x))\n",
    "\n",
    "def f2(X,W):\n",
    "    y = np.dot(X,W) #producto punto entre X y W\n",
    "    if (sigmoid(y) >= 0):\n",
    "        return 1\n",
    "    else:\n",
    "        return 0"
   ]
  },
  {
   "cell_type": "markdown",
   "metadata": {},
   "source": [
    "g) Escriba una función que calcule la función de pérdida descrita anteriormente para un dato  𝑥(𝑖) , utilizando  𝑔(𝑥(𝑖);𝑤,𝑏) . Tenga cuidado con los límites del logaritmo (recordad que  log0→+∞ )."
   ]
  },
  {
   "cell_type": "code",
   "execution_count": 16,
   "metadata": {},
   "outputs": [],
   "source": [
    "def bce(y,X,W):#y=f2(x,W)\n",
    "    return -y*math.log(sigmoid(np.dot(X,W)))-(1-y)*math.log(1-sigmoid(np.dot(X,W)))"
   ]
  },
  {
   "cell_type": "markdown",
   "metadata": {},
   "source": [
    "h) Escriba una función que calcule el gradiente (derivada) de la función de pérdida anterior con respecto a los pesos del modelo  𝑤 . Se recomienda derivarla analíticamente y luego escribirla. Recuerde el uso de la regla de la cadena."
   ]
  },
  {
   "cell_type": "code",
   "execution_count": 17,
   "metadata": {},
   "outputs": [],
   "source": [
    "def gradient(y,X,W):#sigmoid'=sigmoid*(1-sigmoid)\n",
    "    aux=sigmoid(np.dot(X,W))\n",
    "    return ( -y/aux + (1-y)/(1-aux) )*(aux)*(1-aux)*X"
   ]
  },
  {
   "cell_type": "markdown",
   "metadata": {},
   "source": [
    "i) Realice una modificación al algoritmo implementado en b) (Perceptrón) para que se adapte a la función objetivo binary cross entropy implementada, para ésto haga uso del algoritmo de optimización SGD (Stochastic Gradient Descend) con tasa de aprendizaje  𝜂∈[0,1] ."
   ]
  },
  {
   "cell_type": "code",
   "execution_count": null,
   "metadata": {},
   "outputs": [],
   "source": [
    "#w=w-etha*\n",
    "\n",
    "def perceptron(Xs,Y):\n",
    "    N = len(Xs[0]) ##cantidad de atributos\n",
    "    pi = np.zeros(N) ##vector pi\n",
    "    W = np.zeros(N) #vector W a retornar\n",
    "    run_pi = run_w = i =0 #casos consecutivos correctos por pi o w, e i como contador\n",
    "    for X in Xs: #aprende por caso\n",
    "        y = f2(X,pi) #clasificacion de X con los pesos pi\n",
    "        if(y == Y[i]): \n",
    "            run_pi += 1\n",
    "            if(run_pi > run_w): #\n",
    "                W = np.copy(pi)\n",
    "                run_w = run_pi\n",
    "        else:\n",
    "            pi = pi + X*Y[i] ##Se debe hacer bien el ajuste\n",
    "            run_pi = 0\n",
    "        i += 1\n",
    "    return W\n",
    "    \n",
    "    "
   ]
  },
  {
   "cell_type": "markdown",
   "metadata": {},
   "source": [
    "j) Vuelva a realizar el item c) con esta modificación, además grafique la función de pérdida en el transcurso del entrenamiento. Compare los resultados."
   ]
  },
  {
   "cell_type": "code",
   "execution_count": null,
   "metadata": {},
   "outputs": [],
   "source": []
  }
 ],
 "metadata": {
  "kernelspec": {
   "display_name": "Python 3",
   "language": "python",
   "name": "python3"
  },
  "language_info": {
   "codemirror_mode": {
    "name": "ipython",
    "version": 3
   },
   "file_extension": ".py",
   "mimetype": "text/x-python",
   "name": "python",
   "nbconvert_exporter": "python",
   "pygments_lexer": "ipython3",
   "version": "3.6.0"
  }
 },
 "nbformat": 4,
 "nbformat_minor": 2
}
