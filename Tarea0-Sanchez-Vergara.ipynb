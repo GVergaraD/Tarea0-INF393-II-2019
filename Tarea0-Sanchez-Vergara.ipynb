{
 "cells": [
  {
   "cell_type": "markdown",
   "metadata": {},
   "source": [
    "<table style=\"width:100%\">\n",
    "  <tr>\n",
    "    <th align=\"right\"><img src=\"img/dilogo.png\" style=\"float:left;height:90px\"></th>\n",
    "    <th align=\"center\">\n",
    "    <h1 align=\"center\">Tarea 0</h1>\n",
    "    <h2 align=\"center\">Profesor: Ricardo Ñanculef</h2>\n",
    "    <h3 align=\"center\">Ayudante: Fransisco Mena</h3>\n",
    "    <h3 align=\"center\">Camilo Sanchez Bravo</h3>\n",
    "    <h3 align=\"center\">201673586-0</h3>\n",
    "    <h3 align=\"center\">Gabriel Vergara Donoso</h3>\n",
    "    <h3 align=\"center\">201673605-0</h3>\n",
    "    <h3 align=\"center\">Septiembre 2019</h3>\n",
    "    </th> \n",
    "    <th align=\"left\"><img src=\"img/usmlogo.png\" style=\"float:right;height:85px\"></th>\n",
    "  </tr>"
   ]
  },
  {
   "cell_type": "markdown",
   "metadata": {},
   "source": [
    "<a id=\"primero\"></a>\n",
    "## 1. Perceptrón a mano"
   ]
  },
  {
   "cell_type": "markdown",
   "metadata": {},
   "source": [
    "a) Escriba una función que calcule el valor de salida (output) del modelo  𝑓(𝑥)  para un patrón de entrada  𝑥  a través de los pesos  𝑤  del modelo. Decida si incluir los bias dentro de  𝑤  o manejarlos de manera separada."
   ]
  },
  {
   "cell_type": "markdown",
   "metadata": {},
   "source": [
    " Implementación de la función f(x) en Python.\n",
    "\n",
    "    Los bias se incluirán dentro de W, vector que contiene los pesos w. \n",
    "    Inputs:   \n",
    "        X: vector que contiene los x.       \n",
    "        W: vector que contiene los pesos w, donde w(i) corresponde al peso para el atributo x(i)    \n",
    "    Output: Clase (1 o 0) que se calcula para X."
   ]
  },
  {
   "cell_type": "code",
   "execution_count": 2,
   "metadata": {},
   "outputs": [],
   "source": [
    "import numpy as np\n",
    "import matplotlib.pyplot as plt\n",
    "\n",
    "def f(X,W):\n",
    "    y = np.dot(X,W) #producto punto entre X y W\n",
    "    if (y >= 0):\n",
    "        return 1\n",
    "    else:\n",
    "        return -1"
   ]
  },
  {
   "cell_type": "markdown",
   "metadata": {},
   "source": [
    "b) Escriba una función que implemente el clásico algoritmo del Perceptrón para un problema binario que permita entrenarlo en un conjunto de datos de tamaño  𝑁 , leídos de manera online (uno a uno). Recordar la decisión anterior sobre los bias."
   ]
  },
  {
   "cell_type": "code",
   "execution_count": 3,
   "metadata": {},
   "outputs": [],
   "source": [
    "def perceptron(Xs,Y):\n",
    "    N = len(Xs[0]) ##cantidad de atributos\n",
    "    pi = np.zeros(N) ##vector pi\n",
    "    W = np.zeros(N) #vector W a retornar\n",
    "    run_pi = run_w = i =0 #casos consecutivos correctos por pi o w, e i como contador\n",
    "    accu = []\n",
    "    datos = []\n",
    "    cantidad = len(Y)\n",
    "    for X in Xs: #aprende por caso\n",
    "        y = f(X,pi) #clasificacion de X con los pesos pi\n",
    "        if(y == Y[i]): \n",
    "            run_pi += 1\n",
    "            if(run_pi > run_w): #\n",
    "                W = np.copy(pi)\n",
    "                run_w = run_pi\n",
    "        else:\n",
    "            pi = pi + 0.25*(X*Y[i]) \n",
    "            run_pi = 0\n",
    "        i += 1\n",
    "        datos.append(i)\n",
    "        j = 0\n",
    "        correctas = 0\n",
    "        while(j<cantidad):\n",
    "            if(Y[j]==f(Xs[j],W)):\n",
    "                correctas += 1.0\n",
    "            j += 1\n",
    "        accu.append(correctas/cantidad)\n",
    "    plt.grid()\n",
    "    plt.xlabel(\"Numero de datos de entrenamiento\")\n",
    "    plt.ylabel(\"Precision\")\n",
    "    plt.plot(datos,accu)\n",
    "    return W\n",
    "    \n",
    "    "
   ]
  },
  {
   "cell_type": "markdown",
   "metadata": {},
   "source": [
    "c) Demuestre que lo implementado funciona en un problema real de clasificación. Para esto utilice el dataset Breast cancer wisconsin, disponible a través de la librería sklearn, el cual corresponde a la detección de cancer mamario a través de características relevantes (numéricas continuas) de un examen realizado, como por ejemplo la textura, simetría y tamaño de una masa mamaria. Estas características deben combinarse linealmente para la detección del cancer."
   ]
  },
  {
   "cell_type": "code",
   "execution_count": 4,
   "metadata": {},
   "outputs": [
    {
     "data": {
      "image/png": "[encoded data removed]",
      "text/plain": [
       "<Figure size 432x288 with 1 Axes>"
      ]
     },
     "metadata": {
      "needs_background": "light"
     },
     "output_type": "display_data"
    }
   ],
   "source": [
    "from sklearn.datasets import load_breast_cancer\n",
    "from sklearn.preprocessing import StandardScaler\n",
    "X_train,y_train = load_breast_cancer(return_X_y=True)\n",
    "scaler = StandardScaler().fit(X_train)\n",
    "X_train = scaler.transform(X_train)\n",
    "N,m=X_train.shape\n",
    "X_train = np.c_[X_train, np.ones(N)]\n",
    "i = 0\n",
    "cantidad = len(y_train)\n",
    "while(i<cantidad): #cambiar los 0 a -1 (necesarios en el perceptron)\n",
    "    if (y_train[i]==0):\n",
    "        y_train[i] = -1\n",
    "    i +=1\n",
    "\n",
    "pesos = perceptron(X_train, y_train)\n",
    "correctas = 0\n",
    "i = 0\n",
    "#while(i<cantidad):\n",
    "#    if(y_train[i]==f(X_train[i],pesos)):\n",
    "#        correctas += 1\n",
    "#    i +=1\n",
    "#print(cantidad)\n",
    "#print(correctas)"
   ]
  },
  {
   "cell_type": "markdown",
   "metadata": {},
   "source": [
    "d) Escriba una función que implemente el **Forgetrón**  con una memoria de tamaño $K$ y la función de kernel como el producto interno (*inner-product*), esto es $<a,b> = \\sum_i a_i \\cdot b_i$."
   ]
  },
  {
   "cell_type": "code",
   "execution_count": 5,
   "metadata": {},
   "outputs": [],
   "source": [
    "def Forgetron(Xs,Y,K):\n",
    "    N = len(Xs[0])\n",
    "    f1 = np.zeros(N) #vector de pesos inicializados en 0s\n",
    "    I1 = [] #memoria del algoritmo\n",
    "    factores = np.zeros(K)\n",
    "    Ys = [] #los 'y' de los datos que fallaron\n",
    "    fallas = 0 \n",
    "    pos = 0 #guarda la posicion actual en la memoria de los datos guardados\n",
    "    i = 0 \n",
    "    accu = []\n",
    "    datos = []\n",
    "    cantidad = len(Y)\n",
    "    for X in Xs:\n",
    "        if ((f(X,f1)*Y[i])<0): #si falla la prediccion\n",
    "            #fallas += 1\n",
    "            if (pos>=K): #por la memoria limitada\n",
    "                pos = 0\n",
    "            #I1[pos] = X\n",
    "            if(fallas >= K): \n",
    "                Ys[pos] = Y[i]\n",
    "                I1[pos] = X\n",
    "                factores = factores*0.1\n",
    "            else:\n",
    "                Ys.append(Y[i])\n",
    "                I1.append(X)\n",
    "            factores[pos] = 1 #nuevo error\n",
    "            pos += 1\n",
    "            fallas +=1\n",
    "        ft = np.zeros(N)\n",
    "        for j in list(range(len(Ys))):\n",
    "            ft = ft + factores[j]*Ys[j]*I1[j]\n",
    "        f1 = np.copy(ft)\n",
    "        i += 1\n",
    "        datos.append(i)\n",
    "        j = 0\n",
    "        correctas = 0\n",
    "        while(j<cantidad):\n",
    "            if(Y[j]==f(Xs[j],f1)):\n",
    "                correctas += 1.0\n",
    "            j += 1\n",
    "        accu.append(correctas/cantidad)\n",
    "    plt.grid()\n",
    "    plt.xlabel(\"Numero de datos de entrenamiento\")\n",
    "    plt.ylabel(\"Precision\")\n",
    "    plt.plot(datos,accu)\n",
    "    return f1"
   ]
  },
  {
   "cell_type": "markdown",
   "metadata": {},
   "source": [
    "e) Vuelva a realizar el item c) para el **Forgetrón** con un $K=10$ y compare los resultados."
   ]
  },
  {
   "cell_type": "code",
   "execution_count": 6,
   "metadata": {},
   "outputs": [
    {
     "data": {
      "image/png": "[encoded data removed]",
      "text/plain": [
       "<Figure size 432x288 with 1 Axes>"
      ]
     },
     "metadata": {
      "needs_background": "light"
     },
     "output_type": "display_data"
    }
   ],
   "source": [
    "pesos = Forgetron(X_train, y_train, 10)"
   ]
  },
  {
   "cell_type": "markdown",
   "metadata": {},
   "source": [
    "### ¿Qué sucede al variar la función objetivo del problema? "
   ]
  },
  {
   "cell_type": "markdown",
   "metadata": {},
   "source": [
    "f) Escriba una función que compute la función sigmoidal para una entrada  𝜉  cualquiera. Tenga cuidado con los límites de números que puede trabajar python (por ejemplo  exp800→+∞ ). Se aconseja acotar/truncar los valores que entran a la función para que la operación se pueda realizar. Además escriba una función que calcule la salida del nuevo modelo  𝑔(𝑥;𝑤,𝑏)  con esta función sigmoidal."
   ]
  },
  {
   "cell_type": "code",
   "execution_count": 11,
   "metadata": {},
   "outputs": [],
   "source": [
    "import math\n",
    "\n",
    "def sigmoid(x):\n",
    "    if x<-709:\n",
    "        return 0\n",
    "    return 1 / (1 + math.exp(-x))\n",
    "\n",
    "def f2(X,W):\n",
    "    y = np.dot(X,W) #producto punto entre X y W\n",
    "    if (sigmoid(y) >= 0):\n",
    "        return 1\n",
    "    else:\n",
    "        return -1"
   ]
  },
  {
   "cell_type": "markdown",
   "metadata": {},
   "source": [
    "g) Escriba una función que calcule la función de pérdida descrita anteriormente para un dato  𝑥(𝑖) , utilizando  𝑔(𝑥(𝑖);𝑤,𝑏) . Tenga cuidado con los límites del logaritmo (recordad que  log0→+∞ )."
   ]
  },
  {
   "cell_type": "code",
   "execution_count": 8,
   "metadata": {},
   "outputs": [],
   "source": [
    "def bce(y,X,W):#y=f2(x,W)\n",
    "    return -y*math.log(sigmoid(np.dot(X,W)))-(1-y)*math.log(1-sigmoid(np.dot(X,W)))"
   ]
  },
  {
   "cell_type": "markdown",
   "metadata": {},
   "source": [
    "h) Escriba una función que calcule el gradiente (derivada) de la función de pérdida anterior con respecto a los pesos del modelo  𝑤 . Se recomienda derivarla analíticamente y luego escribirla. Recuerde el uso de la regla de la cadena."
   ]
  },
  {
   "cell_type": "code",
   "execution_count": 9,
   "metadata": {},
   "outputs": [],
   "source": [
    "def gradient(y,X,W):#sigmoid'=sigmoid*(1-sigmoid)\n",
    "    aux=sigmoid(np.dot(X,W))\n",
    "    return ( -y/aux + (1-y)/(1-aux) )*(aux)*(1-aux)*X"
   ]
  },
  {
   "cell_type": "markdown",
   "metadata": {},
   "source": [
    "i) Realice una modificación al algoritmo implementado en b) (Perceptrón) para que se adapte a la función objetivo binary cross entropy implementada, para ésto haga uso del algoritmo de optimización SGD (Stochastic Gradient Descend) con tasa de aprendizaje  𝜂∈[0,1] ."
   ]
  },
  {
   "cell_type": "code",
   "execution_count": 12,
   "metadata": {},
   "outputs": [],
   "source": [
    "#w=w-etha*gradient(y,x,W)\n",
    "\n",
    "def perceptron(Xs,Y):\n",
    "    N = len(Xs[0]) ##cantidad de atributos\n",
    "    pi = np.zeros(N) ##vector pi\n",
    "    W = np.zeros(N) #vector W a retornar\n",
    "    run_pi = run_w = i =0 #casos consecutivos correctos por pi o w, e i como contador\n",
    "    accu = []\n",
    "    datos = []\n",
    "    cantidad = len(Y)\n",
    "    for X in Xs: #aprende por caso\n",
    "        y = f2(X,pi) #clasificacion de X con los pesos pi\n",
    "        if(y == Y[i]): \n",
    "            run_pi += 1\n",
    "            if(run_pi > run_w): #\n",
    "                W = np.copy(pi)\n",
    "                run_w = run_pi\n",
    "        else:\n",
    "            pi = pi - y*gradient(y,X,pi)\n",
    "            run_pi = 0\n",
    "        i += 1\n",
    "        datos.append(i)\n",
    "        j = 0\n",
    "        correctas = 0\n",
    "        while(j<cantidad):\n",
    "            if(Y[j]==f(Xs[j],W)):\n",
    "                correctas += 1.0\n",
    "            j += 1\n",
    "        accu.append(correctas/cantidad)\n",
    "    plt.grid()\n",
    "    plt.xlabel(\"Numero de datos de entrenamiento\")\n",
    "    plt.ylabel(\"Precision\")\n",
    "    plt.plot(datos,accu)\n",
    "    return W\n",
    "    \n",
    "    "
   ]
  },
  {
   "cell_type": "markdown",
   "metadata": {},
   "source": [
    "j) Vuelva a realizar el item c) con esta modificación, además grafique la función de pérdida en el transcurso del entrenamiento. Compare los resultados."
   ]
  },
  {
   "cell_type": "code",
   "execution_count": 13,
   "metadata": {},
   "outputs": [
    {
     "ename": "ZeroDivisionError",
     "evalue": "float division by zero",
     "output_type": "error",
     "traceback": [
      "\u001b[1;31m---------------------------------------------------------------------------\u001b[0m",
      "\u001b[1;31mZeroDivisionError\u001b[0m                         Traceback (most recent call last)",
      "\u001b[1;32m<ipython-input-13-e105ced7f2c3>\u001b[0m in \u001b[0;36m<module>\u001b[1;34m\u001b[0m\n\u001b[0;32m     11\u001b[0m     \u001b[0mi\u001b[0m \u001b[1;33m+=\u001b[0m\u001b[1;36m1\u001b[0m\u001b[1;33m\u001b[0m\u001b[1;33m\u001b[0m\u001b[0m\n\u001b[0;32m     12\u001b[0m \u001b[1;33m\u001b[0m\u001b[0m\n\u001b[1;32m---> 13\u001b[1;33m \u001b[0mpesos\u001b[0m \u001b[1;33m=\u001b[0m \u001b[0mperceptron\u001b[0m\u001b[1;33m(\u001b[0m\u001b[0mX_train\u001b[0m\u001b[1;33m,\u001b[0m \u001b[0my_train\u001b[0m\u001b[1;33m)\u001b[0m\u001b[1;33m\u001b[0m\u001b[1;33m\u001b[0m\u001b[0m\n\u001b[0m\u001b[0;32m     14\u001b[0m \u001b[0mcorrectas\u001b[0m \u001b[1;33m=\u001b[0m \u001b[1;36m0\u001b[0m\u001b[1;33m\u001b[0m\u001b[1;33m\u001b[0m\u001b[0m\n\u001b[0;32m     15\u001b[0m \u001b[0mi\u001b[0m \u001b[1;33m=\u001b[0m \u001b[1;36m0\u001b[0m\u001b[1;33m\u001b[0m\u001b[1;33m\u001b[0m\u001b[0m\n",
      "\u001b[1;32m<ipython-input-12-ed3e12eead00>\u001b[0m in \u001b[0;36mperceptron\u001b[1;34m(Xs, Y)\u001b[0m\n\u001b[0;32m     17\u001b[0m                 \u001b[0mrun_w\u001b[0m \u001b[1;33m=\u001b[0m \u001b[0mrun_pi\u001b[0m\u001b[1;33m\u001b[0m\u001b[1;33m\u001b[0m\u001b[0m\n\u001b[0;32m     18\u001b[0m         \u001b[1;32melse\u001b[0m\u001b[1;33m:\u001b[0m\u001b[1;33m\u001b[0m\u001b[1;33m\u001b[0m\u001b[0m\n\u001b[1;32m---> 19\u001b[1;33m             \u001b[0mpi\u001b[0m \u001b[1;33m=\u001b[0m \u001b[0mpi\u001b[0m \u001b[1;33m-\u001b[0m \u001b[0my\u001b[0m\u001b[1;33m*\u001b[0m\u001b[0mgradient\u001b[0m\u001b[1;33m(\u001b[0m\u001b[0my\u001b[0m\u001b[1;33m,\u001b[0m\u001b[0mX\u001b[0m\u001b[1;33m,\u001b[0m\u001b[0mpi\u001b[0m\u001b[1;33m)\u001b[0m\u001b[1;33m\u001b[0m\u001b[1;33m\u001b[0m\u001b[0m\n\u001b[0m\u001b[0;32m     20\u001b[0m             \u001b[0mrun_pi\u001b[0m \u001b[1;33m=\u001b[0m \u001b[1;36m0\u001b[0m\u001b[1;33m\u001b[0m\u001b[1;33m\u001b[0m\u001b[0m\n\u001b[0;32m     21\u001b[0m         \u001b[0mi\u001b[0m \u001b[1;33m+=\u001b[0m \u001b[1;36m1\u001b[0m\u001b[1;33m\u001b[0m\u001b[1;33m\u001b[0m\u001b[0m\n",
      "\u001b[1;32m<ipython-input-9-4b7237e49fda>\u001b[0m in \u001b[0;36mgradient\u001b[1;34m(y, X, W)\u001b[0m\n\u001b[0;32m      1\u001b[0m \u001b[1;32mdef\u001b[0m \u001b[0mgradient\u001b[0m\u001b[1;33m(\u001b[0m\u001b[0my\u001b[0m\u001b[1;33m,\u001b[0m\u001b[0mX\u001b[0m\u001b[1;33m,\u001b[0m\u001b[0mW\u001b[0m\u001b[1;33m)\u001b[0m\u001b[1;33m:\u001b[0m\u001b[1;31m#sigmoid'=sigmoid*(1-sigmoid)\u001b[0m\u001b[1;33m\u001b[0m\u001b[1;33m\u001b[0m\u001b[0m\n\u001b[0;32m      2\u001b[0m     \u001b[0maux\u001b[0m\u001b[1;33m=\u001b[0m\u001b[0msigmoid\u001b[0m\u001b[1;33m(\u001b[0m\u001b[0mnp\u001b[0m\u001b[1;33m.\u001b[0m\u001b[0mdot\u001b[0m\u001b[1;33m(\u001b[0m\u001b[0mX\u001b[0m\u001b[1;33m,\u001b[0m\u001b[0mW\u001b[0m\u001b[1;33m)\u001b[0m\u001b[1;33m)\u001b[0m\u001b[1;33m\u001b[0m\u001b[1;33m\u001b[0m\u001b[0m\n\u001b[1;32m----> 3\u001b[1;33m     \u001b[1;32mreturn\u001b[0m \u001b[1;33m(\u001b[0m \u001b[1;33m-\u001b[0m\u001b[0my\u001b[0m\u001b[1;33m/\u001b[0m\u001b[0maux\u001b[0m \u001b[1;33m+\u001b[0m \u001b[1;33m(\u001b[0m\u001b[1;36m1\u001b[0m\u001b[1;33m-\u001b[0m\u001b[0my\u001b[0m\u001b[1;33m)\u001b[0m\u001b[1;33m/\u001b[0m\u001b[1;33m(\u001b[0m\u001b[1;36m1\u001b[0m\u001b[1;33m-\u001b[0m\u001b[0maux\u001b[0m\u001b[1;33m)\u001b[0m \u001b[1;33m)\u001b[0m\u001b[1;33m*\u001b[0m\u001b[1;33m(\u001b[0m\u001b[0maux\u001b[0m\u001b[1;33m)\u001b[0m\u001b[1;33m*\u001b[0m\u001b[1;33m(\u001b[0m\u001b[1;36m1\u001b[0m\u001b[1;33m-\u001b[0m\u001b[0maux\u001b[0m\u001b[1;33m)\u001b[0m\u001b[1;33m*\u001b[0m\u001b[0mX\u001b[0m\u001b[1;33m\u001b[0m\u001b[1;33m\u001b[0m\u001b[0m\n\u001b[0m",
      "\u001b[1;31mZeroDivisionError\u001b[0m: float division by zero"
     ]
    }
   ],
   "source": [
    "X_train,y_train = load_breast_cancer(return_X_y=True)\n",
    "scaler = StandardScaler().fit(X_train)\n",
    "X_train = scaler.transform(X_train)\n",
    "N,m=X_train.shape\n",
    "X_train = np.c_[X_train, np.ones(N)]\n",
    "i = 0\n",
    "cantidad = len(y_train)\n",
    "while(i<cantidad): #cambiar los 0 a -1 (necesarios en el perceptron)\n",
    "    if (y_train[i]==0):\n",
    "        y_train[i] = -1\n",
    "    i +=1\n",
    "\n",
    "pesos = perceptron(X_train, y_train)\n",
    "correctas = 0\n",
    "i = 0\n",
    "#while(i<cantidad):\n",
    "#    if(y_train[i]==f(X_train[i],pesos)):\n",
    "#        correctas += 1\n",
    "#    i +=1\n",
    "#print(cantidad)\n",
    "#print(correctas)"
   ]
  },
  {
   "cell_type": "code",
   "execution_count": null,
   "metadata": {},
   "outputs": [],
   "source": []
  }
 ],
 "metadata": {
  "kernelspec": {
   "display_name": "Python 3",
   "language": "python",
   "name": "python3"
  },
  "language_info": {
   "codemirror_mode": {
    "name": "ipython",
    "version": 3
   },
   "file_extension": ".py",
   "mimetype": "text/x-python",
   "name": "python",
   "nbconvert_exporter": "python",
   "pygments_lexer": "ipython3",
   "version": "3.7.1"
  }
 },
 "nbformat": 4,
 "nbformat_minor": 2
}
