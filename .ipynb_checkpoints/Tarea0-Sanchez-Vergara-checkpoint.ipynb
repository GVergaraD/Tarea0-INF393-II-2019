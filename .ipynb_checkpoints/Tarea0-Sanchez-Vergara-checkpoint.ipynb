{
 "cells": [
  {
   "cell_type": "markdown",
   "metadata": {},
   "source": [
    "<table style=\"width:100%\">\n",
    "  <tr>\n",
    "    <th align=\"right\"><img src=\"img/dilogo.png\" style=\"float:left;height:90px\"></th>\n",
    "    <th align=\"center\">\n",
    "    <h1 align=\"center\">Tarea 0</h1>\n",
    "    <h2 align=\"center\">Profesor: Ricardo Ñanculef</h2>\n",
    "    <h3 align=\"center\">Ayudante: Fransisco Mena</h3>\n",
    "    <h3 align=\"center\">Camilo Sanchez Bravo</h3>\n",
    "    <h3 align=\"center\">201673586-0</h3>\n",
    "    <h3 align=\"center\">Gabriel Vergara Donoso</h3>\n",
    "    <h3 align=\"center\">201673605-0</h3>\n",
    "    <h3 align=\"center\">Septiembre 2019</h3>\n",
    "    </th> \n",
    "    <th align=\"left\"><img src=\"img/usmlogo.png\" style=\"float:right;height:85px\"></th>\n",
    "  </tr>"
   ]
  },
  {
   "cell_type": "markdown",
   "metadata": {},
   "source": [
    "<a id=\"primero\"></a>\n",
    "## 1. Perceptrón a mano"
   ]
  },
  {
   "cell_type": "markdown",
   "metadata": {},
   "source": [
    "## a)Implementación de la función f(x) en Python.\n",
    "\n",
    "    Los bias se incluirán dentro de W, vector que contiene los pesos w. \n",
    "    Inputs:   \n",
    "        X: vector que contiene los x.       \n",
    "        W: vector que contiene los pesos w, donde w(i) corresponde al peso para el atributo x(i)    \n",
    "    Output: Clase (1 o -1) que se calcula para X."
   ]
  },
  {
   "cell_type": "code",
   "execution_count": 35,
   "metadata": {},
   "outputs": [],
   "source": [
    "import numpy as np\n",
    "import matplotlib.pyplot as plt\n",
    "\n",
    "def f(X,W):\n",
    "    y = np.dot(X,W) #producto punto entre X y W\n",
    "    if (y >= 0):\n",
    "        return 1\n",
    "    else:\n",
    "        return -1"
   ]
  },
  {
   "cell_type": "markdown",
   "metadata": {},
   "source": [
    "b)"
   ]
  },
  {
   "cell_type": "code",
   "execution_count": 53,
   "metadata": {},
   "outputs": [],
   "source": [
    "def perceptron(Xs,Y):\n",
    "    N = len(Xs[0]) ##cantidad de atributos\n",
    "    pi = np.zeros(N) ##vector pi\n",
    "    W = np.zeros(N) #vector W a retornar\n",
    "    run_pi = run_w = i =0 #casos consecutivos correctos por pi o w, e i como contador\n",
    "    accu = []\n",
    "    datos = []\n",
    "    cantidad = len(Y)\n",
    "    for X in Xs: #aprende por caso\n",
    "        y = f(X,pi) #clasificacion de X con los pesos pi\n",
    "        if(y == Y[i]): \n",
    "            run_pi += 1\n",
    "            if(run_pi > run_w): #\n",
    "                W = np.copy(pi)\n",
    "                run_w = run_pi\n",
    "        else:\n",
    "            pi = pi + 0.25*(X*Y[i]) \n",
    "            run_pi = 0\n",
    "        i += 1\n",
    "        datos.append(i)\n",
    "        j = 0\n",
    "        correctas = 0\n",
    "        while(j<cantidad):\n",
    "            if(Y[j]==f(Xs[j],W)):\n",
    "                correctas += 1.0\n",
    "            j += 1\n",
    "        accu.append(correctas/cantidad)\n",
    "    plt.grid()\n",
    "    plt.xlabel(\"Numero de datos de entrenamiento\")\n",
    "    plt.ylabel(\"Precision\")\n",
    "    plt.plot(datos,accu)\n",
    "    return W\n",
    "    \n",
    "    "
   ]
  },
  {
   "cell_type": "markdown",
   "metadata": {},
   "source": [
    "c)"
   ]
  },
  {
   "cell_type": "code",
   "execution_count": 54,
   "metadata": {},
   "outputs": [
    {
     "data": {
      "image/png": "[encoded data removed]",
      "text/plain": [
       "<Figure size 432x288 with 1 Axes>"
      ]
     },
     "metadata": {
      "needs_background": "light"
     },
     "output_type": "display_data"
    }
   ],
   "source": [
    "from sklearn.datasets import load_breast_cancer\n",
    "from sklearn.preprocessing import StandardScaler\n",
    "X_train,y_train = load_breast_cancer(return_X_y=True)\n",
    "scaler = StandardScaler().fit(X_train)\n",
    "X_train = scaler.transform(X_train)\n",
    "N,m=X_train.shape\n",
    "X_train = np.c_[X_train, np.ones(N)]\n",
    "i = 0\n",
    "cantidad = len(y_train)\n",
    "while(i<cantidad): #cambiar los 0 a -1 (necesarios en el perceptron)\n",
    "    if (y_train[i]==0):\n",
    "        y_train[i] = -1\n",
    "    i +=1\n",
    "\n",
    "pesos = perceptron(X_train, y_train)\n",
    "correctas = 0\n",
    "i = 0\n",
    "#while(i<cantidad):\n",
    "#    if(y_train[i]==f(X_train[i],pesos)):\n",
    "#        correctas += 1\n",
    "#    i +=1\n",
    "#print(cantidad)\n",
    "#print(correctas)\n"
   ]
  },
  {
   "cell_type": "markdown",
   "metadata": {},
   "source": [
    "d)"
   ]
  },
  {
   "cell_type": "code",
   "execution_count": 55,
   "metadata": {},
   "outputs": [],
   "source": [
    "def Forgetron(Xs,Y,K):\n",
    "    N = len(Xs[0])\n",
    "    f1 = np.zeros(N) #vector de pesos inicializados en 0s\n",
    "    I1 = [] #memoria del algoritmo\n",
    "    factores = np.zeros(K)\n",
    "    Ys = [] #los 'y' de los datos que fallaron\n",
    "    fallas = 0 \n",
    "    pos = 0 #guarda la posicion actual en la memoria de los datos guardados\n",
    "    i = 0 \n",
    "    accu = []\n",
    "    datos = []\n",
    "    cantidad = len(Y)\n",
    "    for X in Xs:\n",
    "        if ((f(X,f1)*Y[i])<0): #si falla la prediccion\n",
    "            #fallas += 1\n",
    "            if (pos>=K): #por la memoria limitada\n",
    "                pos = 0\n",
    "            #I1[pos] = X\n",
    "            if(fallas >= K): \n",
    "                Ys[pos] = Y[i]\n",
    "                I1[pos] = X\n",
    "                factores = factores*0.1\n",
    "            else:\n",
    "                Ys.append(Y[i])\n",
    "                I1.append(X)\n",
    "            factores[pos] = 1 #nuevo error\n",
    "            pos += 1\n",
    "            fallas +=1\n",
    "        ft = np.zeros(N)\n",
    "        for j in list(range(len(Ys))):\n",
    "            ft = ft + factores[j]*Ys[j]*I1[j]\n",
    "        f1 = np.copy(ft)\n",
    "        i += 1\n",
    "        datos.append(i)\n",
    "        j = 0\n",
    "        correctas = 0\n",
    "        while(j<cantidad):\n",
    "            if(Y[j]==f(Xs[j],f1)):\n",
    "                correctas += 1.0\n",
    "            j += 1\n",
    "        accu.append(correctas/cantidad)\n",
    "    plt.grid()\n",
    "    plt.xlabel(\"Numero de datos de entrenamiento\")\n",
    "    plt.ylabel(\"Precision\")\n",
    "    plt.plot(datos,accu)\n",
    "    return f1"
   ]
  },
  {
   "cell_type": "markdown",
   "metadata": {},
   "source": [
    "e)"
   ]
  },
  {
   "cell_type": "code",
   "execution_count": 56,
   "metadata": {},
   "outputs": [
    {
     "data": {
      "image/png": "[encoded data removed]",
      "text/plain": [
       "<Figure size 432x288 with 1 Axes>"
      ]
     },
     "metadata": {
      "needs_background": "light"
     },
     "output_type": "display_data"
    }
   ],
   "source": [
    "pesos = Forgetron(X_train, y_train, 10)"
   ]
  },
  {
   "cell_type": "markdown",
   "metadata": {},
   "source": [
    "### ¿Qué sucede al variar la función objetivo del problema? "
   ]
  },
  {
   "cell_type": "markdown",
   "metadata": {},
   "source": [
    "f)"
   ]
  },
  {
   "cell_type": "code",
   "execution_count": 15,
   "metadata": {},
   "outputs": [],
   "source": [
    "import numpy as np\n",
    "import math\n",
    "def sigmoid(x):\n",
    "  return 1 / (1 + math.exp(-x))\n",
    "\n",
    "def f2(X,W):\n",
    "    y = np.dot(X,W) #producto punto entre X y W\n",
    "    if (sigmoid(y) >= 0):\n",
    "        return 1\n",
    "    else:\n",
    "        return 0\n"
   ]
  },
  {
   "cell_type": "markdown",
   "metadata": {},
   "source": [
    "g)"
   ]
  },
  {
   "cell_type": "code",
   "execution_count": 16,
   "metadata": {},
   "outputs": [],
   "source": [
    "def bce(y,X,W):#y=f2(x,W)\n",
    "    return -y*math.log(sigmoid(np.dot(X,W)))-(1-y)*math.log(1-sigmoid(np.dot(X,W)))"
   ]
  },
  {
   "cell_type": "markdown",
   "metadata": {},
   "source": [
    "h)"
   ]
  },
  {
   "cell_type": "code",
   "execution_count": 17,
   "metadata": {},
   "outputs": [],
   "source": [
    "def gradient(y,X,W):#sigmoid'=sigmoid*(1-sigmoid)\n",
    "    aux=sigmoid(np.dot(X,W))\n",
    "    return ( -y/aux + (1-y)/(1-aux) )*(aux)*(1-aux)*X"
   ]
  },
  {
   "cell_type": "markdown",
   "metadata": {},
   "source": [
    "i)"
   ]
  },
  {
   "cell_type": "markdown",
   "metadata": {},
   "source": [
    "j)"
   ]
  }
 ],
 "metadata": {
  "kernelspec": {
   "display_name": "Python 3",
   "language": "python",
   "name": "python3"
  },
  "language_info": {
   "codemirror_mode": {
    "name": "ipython",
    "version": 3
   },
   "file_extension": ".py",
   "mimetype": "text/x-python",
   "name": "python",
   "nbconvert_exporter": "python",
   "pygments_lexer": "ipython3",
   "version": "3.6.0"
  }
 },
 "nbformat": 4,
 "nbformat_minor": 2
}
